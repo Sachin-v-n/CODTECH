{
  "nbformat": 4,
  "nbformat_minor": 0,
  "metadata": {
    "colab": {
      "provenance": []
    },
    "kernelspec": {
      "name": "python3",
      "display_name": "Python 3"
    },
    "language_info": {
      "name": "python"
    }
  },
  "cells": [
    {
      "cell_type": "code",
      "execution_count": 1,
      "metadata": {
        "colab": {
          "base_uri": "https://localhost:8080/",
          "height": 1000
        },
        "id": "sTPrt0yKSlp6",
        "outputId": "4694c0db-5728-4fdf-e181-fc5f400570f8"
      },
      "outputs": [
        {
          "output_type": "stream",
          "name": "stderr",
          "text": [
            "[nltk_data] Downloading package stopwords to /root/nltk_data...\n",
            "[nltk_data]   Unzipping corpora/stopwords.zip.\n"
          ]
        },
        {
          "output_type": "stream",
          "name": "stdout",
          "text": [
            "Sample Dataset:\n",
            "                                               review  sentiment\n",
            "0          I love this product! Highly recommend it.          1\n",
            "1    Worst experience ever. Completely disappointed.          0\n",
            "2  Okayish quality, not great but not terrible ei...          1\n",
            "3    Absolutely wonderful! Exceeded my expectations.          1\n",
            "4            Terrible service. Will never come back.          0\n",
            "5                          Good value for the price.          1\n",
            "6                       I hate this. Waste of money.          0\n",
            "7                       Satisfied with the purchase.          1\n",
            "8                                      Not worth it.          0\n",
            "9                      Fantastic experience overall.          1\n",
            "\n",
            "Cleaned Reviews:\n",
            "                                               review  \\\n",
            "0          I love this product! Highly recommend it.   \n",
            "1    Worst experience ever. Completely disappointed.   \n",
            "2  Okayish quality, not great but not terrible ei...   \n",
            "3    Absolutely wonderful! Exceeded my expectations.   \n",
            "4            Terrible service. Will never come back.   \n",
            "5                          Good value for the price.   \n",
            "6                       I hate this. Waste of money.   \n",
            "7                       Satisfied with the purchase.   \n",
            "8                                      Not worth it.   \n",
            "9                      Fantastic experience overall.   \n",
            "\n",
            "                                    clean_review  \n",
            "0                  love product highly recommend  \n",
            "1  worst experience ever completely disappointed  \n",
            "2          okayish quality great terrible either  \n",
            "3     absolutely wonderful exceeded expectations  \n",
            "4               terrible service never come back  \n",
            "5                               good value price  \n",
            "6                               hate waste money  \n",
            "7                             satisfied purchase  \n",
            "8                                          worth  \n",
            "9                   fantastic experience overall  \n",
            "\n",
            "✅ Accuracy Score: 0.3333333333333333\n",
            "\n",
            "📄 Classification Report:\n",
            "               precision    recall  f1-score   support\n",
            "\n",
            "           0       0.00      0.00      0.00         2\n",
            "           1       0.33      1.00      0.50         1\n",
            "\n",
            "    accuracy                           0.33         3\n",
            "   macro avg       0.17      0.50      0.25         3\n",
            "weighted avg       0.11      0.33      0.17         3\n",
            "\n"
          ]
        },
        {
          "output_type": "stream",
          "name": "stderr",
          "text": [
            "/usr/local/lib/python3.11/dist-packages/sklearn/metrics/_classification.py:1565: UndefinedMetricWarning: Precision is ill-defined and being set to 0.0 in labels with no predicted samples. Use `zero_division` parameter to control this behavior.\n",
            "  _warn_prf(average, modifier, f\"{metric.capitalize()} is\", len(result))\n",
            "/usr/local/lib/python3.11/dist-packages/sklearn/metrics/_classification.py:1565: UndefinedMetricWarning: Precision is ill-defined and being set to 0.0 in labels with no predicted samples. Use `zero_division` parameter to control this behavior.\n",
            "  _warn_prf(average, modifier, f\"{metric.capitalize()} is\", len(result))\n",
            "/usr/local/lib/python3.11/dist-packages/sklearn/metrics/_classification.py:1565: UndefinedMetricWarning: Precision is ill-defined and being set to 0.0 in labels with no predicted samples. Use `zero_division` parameter to control this behavior.\n",
            "  _warn_prf(average, modifier, f\"{metric.capitalize()} is\", len(result))\n"
          ]
        },
        {
          "output_type": "display_data",
          "data": {
            "text/plain": [
              "<Figure size 600x400 with 2 Axes>"
            ],
            "image/png": "[encoded data removed]"
          },
          "metadata": {}
        },
        {
          "output_type": "stream",
          "name": "stdout",
          "text": [
            "\n",
            "📌 Conclusion:\n",
            "- Logistic Regression with TF-IDF effectively classifies sentiments in customer reviews.\n",
            "- Simple preprocessing and vectorization are sufficient for small datasets.\n"
          ]
        }
      ],
      "source": [
        "# 🌟 Sentiment Analysis using TF-IDF and Logistic Regression\n",
        "\n",
        "# 📦 Step 1: Import Required Libraries\n",
        "import pandas as pd\n",
        "import numpy as np\n",
        "import matplotlib.pyplot as plt\n",
        "import seaborn as sns\n",
        "import re\n",
        "import string\n",
        "\n",
        "from sklearn.model_selection import train_test_split\n",
        "from sklearn.feature_extraction.text import TfidfVectorizer\n",
        "from sklearn.linear_model import LogisticRegression\n",
        "from sklearn.metrics import accuracy_score, classification_report, confusion_matrix\n",
        "\n",
        "import nltk\n",
        "nltk.download('stopwords')\n",
        "from nltk.corpus import stopwords\n",
        "stop_words = set(stopwords.words('english'))\n",
        "\n",
        "# 📂 Step 2: Sample Customer Review Dataset\n",
        "data = pd.DataFrame({\n",
        "    'review': [\n",
        "        'I love this product! Highly recommend it.',\n",
        "        'Worst experience ever. Completely disappointed.',\n",
        "        'Okayish quality, not great but not terrible either.',\n",
        "        'Absolutely wonderful! Exceeded my expectations.',\n",
        "        'Terrible service. Will never come back.',\n",
        "        'Good value for the price.',\n",
        "        'I hate this. Waste of money.',\n",
        "        'Satisfied with the purchase.',\n",
        "        'Not worth it.',\n",
        "        'Fantastic experience overall.'\n",
        "    ],\n",
        "    'sentiment': [1, 0, 1, 1, 0, 1, 0, 1, 0, 1]  # 1 = Positive, 0 = Negative\n",
        "})\n",
        "\n",
        "print(\"Sample Dataset:\\n\", data)\n",
        "\n",
        "# 🧹 Step 3: Text Preprocessing\n",
        "def clean_text(text):\n",
        "    text = text.lower()\n",
        "    text = re.sub(r'[%s]' % re.escape(string.punctuation), '', text)  # remove punctuation\n",
        "    text = re.sub(r'\\d+', '', text)  # remove digits\n",
        "    text = ' '.join(word for word in text.split() if word not in stop_words)  # remove stopwords\n",
        "    return text\n",
        "\n",
        "data['clean_review'] = data['review'].apply(clean_text)\n",
        "print(\"\\nCleaned Reviews:\\n\", data[['review', 'clean_review']])\n",
        "\n",
        "# 🧠 Step 4: TF-IDF Vectorization\n",
        "tfidf = TfidfVectorizer()\n",
        "X = tfidf.fit_transform(data['clean_review'])  # feature matrix\n",
        "y = data['sentiment']  # target labels\n",
        "\n",
        "# ✂️ Step 5: Train-Test Split\n",
        "X_train, X_test, y_train, y_test = train_test_split(X, y, test_size=0.3, random_state=42)\n",
        "\n",
        "# 🤖 Step 6: Train Logistic Regression Model\n",
        "model = LogisticRegression()\n",
        "model.fit(X_train, y_train)\n",
        "\n",
        "# 🔍 Step 7: Model Evaluation\n",
        "y_pred = model.predict(X_test)\n",
        "\n",
        "print(\"\\n✅ Accuracy Score:\", accuracy_score(y_test, y_pred))\n",
        "print(\"\\n📄 Classification Report:\\n\", classification_report(y_test, y_pred))\n",
        "\n",
        "# 📊 Step 8: Confusion Matrix\n",
        "conf_mat = confusion_matrix(y_test, y_pred)\n",
        "plt.figure(figsize=(6, 4))\n",
        "sns.heatmap(conf_mat, annot=True, fmt='d', cmap='Blues')\n",
        "plt.title(\"Confusion Matrix\")\n",
        "plt.xlabel(\"Predicted\")\n",
        "plt.ylabel(\"Actual\")\n",
        "plt.show()\n",
        "\n",
        "# 📌 Step 9: Conclusion\n",
        "print(\"\\n📌 Conclusion:\")\n",
        "print(\"- Logistic Regression with TF-IDF effectively classifies sentiments in customer reviews.\")\n",
        "print(\"- Simple preprocessing and vectorization are sufficient for small datasets.\")\n"
      ]
    }
  ]
}