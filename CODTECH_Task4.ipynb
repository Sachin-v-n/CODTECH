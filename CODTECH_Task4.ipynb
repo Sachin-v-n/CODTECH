{
  "nbformat": 4,
  "nbformat_minor": 0,
  "metadata": {
    "colab": {
      "provenance": []
    },
    "kernelspec": {
      "name": "python3",
      "display_name": "Python 3"
    },
    "language_info": {
      "name": "python"
    }
  },
  "cells": [
    {
      "cell_type": "code",
      "source": [
        "!pip install numpy==1.24.3\n",
        "!pip install scikit-surprise --no-binary :all:"
      ],
      "metadata": {
        "colab": {
          "base_uri": "https://localhost:8080/"
        },
        "id": "KqTwc3bneTqB",
        "outputId": "dd323394-96a7-4f11-a8af-32ca89f480ed"
      },
      "execution_count": 1,
      "outputs": [
        {
          "output_type": "stream",
          "name": "stdout",
          "text": [
            "Requirement already satisfied: numpy==1.24.3 in /usr/local/lib/python3.11/dist-packages (1.24.3)\n",
            "Collecting scikit-surprise\n",
            "  Using cached scikit_surprise-1.1.4.tar.gz (154 kB)\n",
            "  Installing build dependencies ... \u001b[?25l\u001b[?25hdone\n",
            "  Getting requirements to build wheel ... \u001b[?25l\u001b[?25hdone\n",
            "  Preparing metadata (pyproject.toml) ... \u001b[?25l\u001b[?25hdone\n",
            "Requirement already satisfied: joblib>=1.2.0 in /usr/local/lib/python3.11/dist-packages (from scikit-surprise) (1.5.1)\n",
            "Requirement already satisfied: numpy>=1.19.5 in /usr/local/lib/python3.11/dist-packages (from scikit-surprise) (1.24.3)\n",
            "Requirement already satisfied: scipy>=1.6.0 in /usr/local/lib/python3.11/dist-packages (from scikit-surprise) (1.15.3)\n",
            "Building wheels for collected packages: scikit-surprise\n",
            "  Building wheel for scikit-surprise (pyproject.toml) ... \u001b[?25l\u001b[?25hdone\n",
            "  Created wheel for scikit-surprise: filename=scikit_surprise-1.1.4-cp311-cp311-linux_x86_64.whl size=2469533 sha256=3d955792ad45a9b2f20c3b82431e81015b83232c0fb3dbf5dc36d20070490bf5\n",
            "  Stored in directory: /root/.cache/pip/wheels/2a/8f/6e/7e2899163e2d85d8266daab4aa1cdabec7a6c56f83c015b5af\n",
            "Successfully built scikit-surprise\n",
            "Installing collected packages: scikit-surprise\n",
            "Successfully installed scikit-surprise-1.1.4\n"
          ]
        }
      ]
    },
    {
      "cell_type": "code",
      "execution_count": 3,
      "metadata": {
        "colab": {
          "base_uri": "https://localhost:8080/"
        },
        "id": "dKUl_NzSc0ku",
        "outputId": "b896ee4f-f18d-43df-901b-ee61e447f060"
      },
      "outputs": [
        {
          "output_type": "stream",
          "name": "stdout",
          "text": [
            "Evaluating RMSE, MAE of algorithm SVD on 5 split(s).\n",
            "\n",
            "                  Fold 1  Fold 2  Fold 3  Fold 4  Fold 5  Mean    Std     \n",
            "RMSE (testset)    0.9364  0.9404  0.9371  0.9353  0.9298  0.9358  0.0034  \n",
            "MAE (testset)     0.7401  0.7416  0.7381  0.7335  0.7343  0.7375  0.0032  \n",
            "Fit time          1.33    1.32    1.30    1.53    1.40    1.38    0.09    \n",
            "Test time         0.12    0.23    0.11    0.26    0.12    0.17    0.06    \n",
            "user: 196        item: 302        r_ui = None   est = 4.03   {'was_impossible': False}\n"
          ]
        }
      ],
      "source": [
        "# Task 4: Recommendation System (Collaborative Filtering)\n",
        "\n",
        "from surprise import Dataset, Reader, SVD\n",
        "from surprise.model_selection import cross_validate\n",
        "\n",
        "# Load MovieLens dataset\n",
        "data = Dataset.load_builtin('ml-100k')\n",
        "\n",
        "# Define algorithm - SVD (Singular Value Decomposition)\n",
        "algo = SVD()\n",
        "\n",
        "# Evaluate performance using cross-validation\n",
        "cross_validate(algo, data, measures=['RMSE', 'MAE'], cv=5, verbose=True)\n",
        "\n",
        "# Train on full dataset\n",
        "trainset = data.build_full_trainset()\n",
        "algo.fit(trainset)\n",
        "\n",
        "# Predict rating for a user and item\n",
        "uid = str(196)  # user ID\n",
        "iid = str(302)  # item ID\n",
        "pred = algo.predict(uid, iid, verbose=True)"
      ]
    },
    {
      "cell_type": "code",
      "source": [],
      "metadata": {
        "id": "aGPnnUgbdTJl"
      },
      "execution_count": null,
      "outputs": []
    }
  ]
}